{
 "cells": [
  {
   "cell_type": "markdown",
   "metadata": {},
   "source": [
    "## Storing the Generated Image in Amazon S3 Bucket"
   ]
  },
  {
   "cell_type": "code",
   "execution_count": 3,
   "metadata": {},
   "outputs": [
    {
     "name": "stdout",
     "output_type": "stream",
     "text": [
      "Generated Image is Stored Successfully at S3 location : https://blog-2-bucket-for-image-storage.s3.us-east-1.amazonaws.com/generated-images/aca33f19-c5e3-464a-8e95-08093960887b.png\n"
     ]
    }
   ],
   "source": [
    "import boto3\n",
    "import json\n",
    "import base64\n",
    "import io\n",
    "import uuid\n",
    "from PIL import Image\n",
    "\n",
    "# Set up the Amazon Bedrock client\n",
    "bedrock_client = boto3.client(\n",
    "    service_name=\"bedrock-runtime\",\n",
    "    region_name=\"us-east-1\"\n",
    ")\n",
    "\n",
    "# Define the model ID\n",
    "model_id = \"amazon.nova-canvas-v1:0\"\n",
    "\n",
    "# Prepare the input prompt\n",
    "prompt = \"create me an image of indian flag which should be held by cricketer ms dhoni in indian cricket team jersey on the moon\"\n",
    "\n",
    "# Create the request payload\n",
    "body = json.dumps({\n",
    "        \"taskType\": \"TEXT_IMAGE\",\n",
    "        \"textToImageParams\": {\n",
    "            \"text\": prompt\n",
    "        },\n",
    "        \"imageGenerationConfig\": {\n",
    "            \"numberOfImages\": 1,\n",
    "            \"height\": 1024,\n",
    "            \"width\": 1024,\n",
    "            \"cfgScale\": 8.0,\n",
    "            \"seed\": 0\n",
    "        }\n",
    "    })\n",
    "\n",
    "accept = \"application/json\"\n",
    "content_type = \"application/json\"\n",
    "\n",
    "# Invoke the Amazon Bedrock model\n",
    "response = bedrock_client.invoke_model(\n",
    "    modelId=model_id,\n",
    "    body=body,\n",
    "    accept=accept, \n",
    "    contentType=content_type\n",
    ")\n",
    "\n",
    "# Process the response\n",
    "result = json.loads(response[\"body\"].read())\n",
    "\n",
    "base64_image = result.get(\"images\")[0]\n",
    "base64_bytes = base64_image.encode('ascii')\n",
    "image_bytes = base64.b64decode(base64_bytes)\n",
    "\n",
    "image = Image.open(io.BytesIO(image_bytes))\n",
    "image.show()\n",
    "\n",
    "s3 = boto3.client(\"s3\")\n",
    "id = uuid.uuid4()\n",
    "\n",
    "bucket_name = \"blog-2-bucket-for-image-storage\"\n",
    "object_path = f\"generated-images/{id}.png\"\n",
    "\n",
    "response = s3.put_object(\n",
    "            Bucket=bucket_name,\n",
    "            Key=object_path,\n",
    "            Body=image_bytes,\n",
    "            ContentType='image/jpeg'\n",
    "        )\n",
    "\n",
    "object_url = f\"https://{bucket_name}.s3.us-east-1.amazonaws.com/{object_path}\"\n",
    "print(f\"Generated Image is Stored Successfully at S3 location : {object_url}\")"
   ]
  }
 ],
 "metadata": {
  "kernelspec": {
   "display_name": "Python 3",
   "language": "python",
   "name": "python3"
  },
  "language_info": {
   "codemirror_mode": {
    "name": "ipython",
    "version": 3
   },
   "file_extension": ".py",
   "mimetype": "text/x-python",
   "name": "python",
   "nbconvert_exporter": "python",
   "pygments_lexer": "ipython3",
   "version": "3.13.1"
  }
 },
 "nbformat": 4,
 "nbformat_minor": 2
}
